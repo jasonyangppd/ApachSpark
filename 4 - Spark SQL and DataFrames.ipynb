{
 "cells": [
  {
   "cell_type": "code",
   "execution_count": 148,
   "id": "d7ededd1",
   "metadata": {},
   "outputs": [],
   "source": [
    "import numpy as np\n",
    "import matplotlib.pyplot as plt\n",
    "import pandas as pd\n",
    "from pyspark.sql import SparkSession\n",
    "from pyspark.sql.functions import to_timestamp, col, month, dayofmonth, desc"
   ]
  },
  {
   "cell_type": "code",
   "execution_count": 116,
   "id": "f6cd204b",
   "metadata": {},
   "outputs": [],
   "source": [
    "# Create a sapr\n",
    "spark = SparkSession.builder \\\n",
    "    .appName(\"SparkSQLExampleAPP\") \\\n",
    "    .getOrCreate()\n",
    "\n",
    "# Set log level to ERROR to reduce verbosity\n",
    "spark.sparkContext.setLogLevel(\"ERROR\")"
   ]
  },
  {
   "cell_type": "code",
   "execution_count": 123,
   "id": "5aea5ff3",
   "metadata": {},
   "outputs": [],
   "source": [
    "# create schema\n",
    "schema = \"`date` string, `delay` INT, `distance` INT, `origin` STRING, `destination` STRING\" \n"
   ]
  },
  {
   "cell_type": "code",
   "execution_count": 124,
   "id": "91848b73",
   "metadata": {},
   "outputs": [],
   "source": [
    "df = spark.read.csv('departuredelays.csv', schema=schema, header=True)"
   ]
  },
  {
   "cell_type": "code",
   "execution_count": 125,
   "id": "f8396207",
   "metadata": {},
   "outputs": [
    {
     "name": "stdout",
     "output_type": "stream",
     "text": [
      "root\n",
      " |-- date: string (nullable = true)\n",
      " |-- delay: integer (nullable = true)\n",
      " |-- distance: integer (nullable = true)\n",
      " |-- origin: string (nullable = true)\n",
      " |-- destination: string (nullable = true)\n",
      "\n"
     ]
    }
   ],
   "source": [
    "df.printSchema()"
   ]
  },
  {
   "cell_type": "code",
   "execution_count": 126,
   "id": "5a69e635",
   "metadata": {},
   "outputs": [
    {
     "name": "stdout",
     "output_type": "stream",
     "text": [
      "+--------+-----+--------+------+-----------+\n",
      "|    date|delay|distance|origin|destination|\n",
      "+--------+-----+--------+------+-----------+\n",
      "|01011245|    6|     602|   ABE|        ATL|\n",
      "|01020600|   -8|     369|   ABE|        DTW|\n",
      "|01021245|   -2|     602|   ABE|        ATL|\n",
      "|01020605|   -4|     602|   ABE|        ATL|\n",
      "|01031245|   -4|     602|   ABE|        ATL|\n",
      "+--------+-----+--------+------+-----------+\n",
      "only showing top 5 rows\n",
      "\n"
     ]
    }
   ],
   "source": [
    "df.show(5)"
   ]
  },
  {
   "cell_type": "code",
   "execution_count": 137,
   "id": "a3ab2b8c",
   "metadata": {},
   "outputs": [],
   "source": [
    "df = df.withColumn('flight_date', to_timestamp(col('date'), 'MMddHHmm'))"
   ]
  },
  {
   "cell_type": "code",
   "execution_count": 138,
   "id": "aef4ade2",
   "metadata": {},
   "outputs": [
    {
     "name": "stdout",
     "output_type": "stream",
     "text": [
      "+--------+-----+--------+------+-----------+-------------------+\n",
      "|    date|delay|distance|origin|destination|        flight_date|\n",
      "+--------+-----+--------+------+-----------+-------------------+\n",
      "|01011245|    6|     602|   ABE|        ATL|1970-01-01 12:45:00|\n",
      "|01020600|   -8|     369|   ABE|        DTW|1970-01-02 06:00:00|\n",
      "|01021245|   -2|     602|   ABE|        ATL|1970-01-02 12:45:00|\n",
      "|01020605|   -4|     602|   ABE|        ATL|1970-01-02 06:05:00|\n",
      "|01031245|   -4|     602|   ABE|        ATL|1970-01-03 12:45:00|\n",
      "+--------+-----+--------+------+-----------+-------------------+\n",
      "only showing top 5 rows\n",
      "\n"
     ]
    }
   ],
   "source": [
    "df.show(5)"
   ]
  },
  {
   "cell_type": "code",
   "execution_count": 139,
   "id": "aba64572",
   "metadata": {},
   "outputs": [],
   "source": [
    "## Create a temporary view - this only exists for the duration of the Spark session\n",
    "df.createOrReplaceTempView('us_delay_flights_tbl')"
   ]
  },
  {
   "cell_type": "code",
   "execution_count": 140,
   "id": "55efa8a1",
   "metadata": {},
   "outputs": [
    {
     "name": "stdout",
     "output_type": "stream",
     "text": [
      "+--------+-----+--------+------+-----------+-------------------+\n",
      "|    date|delay|distance|origin|destination|        flight_date|\n",
      "+--------+-----+--------+------+-----------+-------------------+\n",
      "|01011245|    6|     602|   ABE|        ATL|1970-01-01 12:45:00|\n",
      "|01020600|   -8|     369|   ABE|        DTW|1970-01-02 06:00:00|\n",
      "|01021245|   -2|     602|   ABE|        ATL|1970-01-02 12:45:00|\n",
      "|01020605|   -4|     602|   ABE|        ATL|1970-01-02 06:05:00|\n",
      "|01031245|   -4|     602|   ABE|        ATL|1970-01-03 12:45:00|\n",
      "+--------+-----+--------+------+-----------+-------------------+\n",
      "\n"
     ]
    }
   ],
   "source": [
    "spark.sql(\n",
    "    \"\"\"\n",
    "select *\n",
    "from us_delay_flights_tbl\n",
    "limit 5\n",
    "\"\"\"\n",
    ").show()"
   ]
  },
  {
   "cell_type": "code",
   "execution_count": 141,
   "id": "1bbc362e",
   "metadata": {},
   "outputs": [
    {
     "name": "stdout",
     "output_type": "stream",
     "text": [
      "+--------+-----+--------+------+-----------+\n",
      "|    date|delay|distance|origin|destination|\n",
      "+--------+-----+--------+------+-----------+\n",
      "|03011625|   -1|    4330|   HNL|        JFK|\n",
      "|01011625|   -4|    4330|   HNL|        JFK|\n",
      "|02011625|   -1|    4330|   HNL|        JFK|\n",
      "|01211625|  115|    4330|   HNL|        JFK|\n",
      "|03291530|   37|    4330|   HNL|        JFK|\n",
      "|01021625|  110|    4330|   HNL|        JFK|\n",
      "|02271625|   -7|    4330|   HNL|        JFK|\n",
      "|01031625|   -1|    4330|   HNL|        JFK|\n",
      "|03021625|   14|    4330|   HNL|        JFK|\n",
      "|01041625|   -7|    4330|   HNL|        JFK|\n",
      "|02021625|   -5|    4330|   HNL|        JFK|\n",
      "|01051625|   18|    4330|   HNL|        JFK|\n",
      "|03051625|   -6|    4330|   HNL|        JFK|\n",
      "|01061625|    0|    4330|   HNL|        JFK|\n",
      "|02051625|   -8|    4330|   HNL|        JFK|\n",
      "|01071625|    0|    4330|   HNL|        JFK|\n",
      "|03061625|   -2|    4330|   HNL|        JFK|\n",
      "|01081625|   -5|    4330|   HNL|        JFK|\n",
      "|02061625|   -9|    4330|   HNL|        JFK|\n",
      "|01091625|    0|    4330|   HNL|        JFK|\n",
      "+--------+-----+--------+------+-----------+\n",
      "only showing top 20 rows\n",
      "\n"
     ]
    }
   ],
   "source": [
    "spark.sql(\"\"\"select date, delay, distance, origin, destination \n",
    "          from us_delay_flights_tbl\n",
    "          where distance > 1000\n",
    "          order by distance desc\n",
    "          \"\"\").show()"
   ]
  },
  {
   "cell_type": "code",
   "execution_count": 142,
   "id": "8e98139a",
   "metadata": {},
   "outputs": [
    {
     "name": "stdout",
     "output_type": "stream",
     "text": [
      "+--------+-----+--------+------+-----------+\n",
      "|    date|delay|distance|origin|destination|\n",
      "+--------+-----+--------+------+-----------+\n",
      "|02190925| 1638|    1604|   SFO|        ORD|\n",
      "|01031755|  396|    1604|   SFO|        ORD|\n",
      "|01022330|  326|    1604|   SFO|        ORD|\n",
      "|01051205|  320|    1604|   SFO|        ORD|\n",
      "|01190925|  297|    1604|   SFO|        ORD|\n",
      "|02171115|  296|    1604|   SFO|        ORD|\n",
      "|01071040|  279|    1604|   SFO|        ORD|\n",
      "|01051550|  274|    1604|   SFO|        ORD|\n",
      "|03120730|  266|    1604|   SFO|        ORD|\n",
      "|01261104|  258|    1604|   SFO|        ORD|\n",
      "|01161210|  225|    1604|   SFO|        ORD|\n",
      "|02091800|  223|    1604|   SFO|        ORD|\n",
      "|01221040|  215|    1604|   SFO|        ORD|\n",
      "|03121155|  203|    1604|   SFO|        ORD|\n",
      "|02111256|  197|    1604|   SFO|        ORD|\n",
      "|03311405|  196|    1604|   SFO|        ORD|\n",
      "|01031920|  193|    1604|   SFO|        ORD|\n",
      "|01021410|  190|    1604|   SFO|        ORD|\n",
      "|03171215|  189|    1604|   SFO|        ORD|\n",
      "|01101410|  184|    1604|   SFO|        ORD|\n",
      "+--------+-----+--------+------+-----------+\n",
      "only showing top 20 rows\n",
      "\n"
     ]
    }
   ],
   "source": [
    "spark.sql(\"\"\"select date, delay, distance, origin, destination\n",
    "          from fire_calls\n",
    "          where origin = 'SFO' and destination = 'ORD'\n",
    "                and delay >= 120\n",
    "          order by delay desc\n",
    "          \"\"\").show()"
   ]
  },
  {
   "cell_type": "code",
   "execution_count": 147,
   "id": "6fa30887",
   "metadata": {},
   "outputs": [
    {
     "name": "stdout",
     "output_type": "stream",
     "text": [
      "+-----+------+-----------+----------------+\n",
      "|delay|origin|destination|   flight_delays|\n",
      "+-----+------+-----------+----------------+\n",
      "| 1642|   TPA|        DFW|Very Long Delays|\n",
      "| 1638|   SFO|        ORD|Very Long Delays|\n",
      "| 1636|   FLL|        DFW|Very Long Delays|\n",
      "| 1592|   RSW|        ORD|Very Long Delays|\n",
      "| 1560|   BNA|        DFW|Very Long Delays|\n",
      "| 1553|   PDX|        DFW|Very Long Delays|\n",
      "| 1543|   CLE|        DFW|Very Long Delays|\n",
      "| 1511|   MCO|        ORD|Very Long Delays|\n",
      "| 1500|   EGE|        JFK|Very Long Delays|\n",
      "| 1496|   ONT|        DFW|Very Long Delays|\n",
      "+-----+------+-----------+----------------+\n",
      "only showing top 10 rows\n",
      "\n"
     ]
    }
   ],
   "source": [
    "spark.sql(\"\"\"\n",
    "select delay, origin, destination,\n",
    "          case\n",
    "            when delay > 360 then 'Very Long Delays'\n",
    "            when delay >= 120 and delay <= 120 then 'Short Delays'\n",
    "            when delay >= 60 and delay < 120 then 'Short Delays'\n",
    "            when delay > 0 and delay <60 then 'Tolerable Delays'\n",
    "            when delay = 0 then 'No Delays'\n",
    "            else 'Early'\n",
    "            end as flight_delays\n",
    "          from us_delay_flights_tbl\n",
    "          order by delay desc         \n",
    "\"\"\").show(10)"
   ]
  },
  {
   "cell_type": "code",
   "execution_count": 153,
   "id": "b017be5e",
   "metadata": {},
   "outputs": [
    {
     "name": "stdout",
     "output_type": "stream",
     "text": [
      "+--------+------+-----------+\n",
      "|distance|origin|destination|\n",
      "+--------+------+-----------+\n",
      "|    4330|   HNL|        JFK|\n",
      "|    4330|   HNL|        JFK|\n",
      "|    4330|   HNL|        JFK|\n",
      "|    4330|   HNL|        JFK|\n",
      "|    4330|   HNL|        JFK|\n",
      "|    4330|   HNL|        JFK|\n",
      "|    4330|   HNL|        JFK|\n",
      "|    4330|   HNL|        JFK|\n",
      "|    4330|   HNL|        JFK|\n",
      "|    4330|   HNL|        JFK|\n",
      "+--------+------+-----------+\n",
      "only showing top 10 rows\n",
      "\n"
     ]
    }
   ],
   "source": [
    "(df.select('distance', 'origin', 'destination') \\\n",
    "    .where(col('distance') > 1000) \\\n",
    "    .orderBy(desc('distance'))).show(10)"
   ]
  },
  {
   "cell_type": "code",
   "execution_count": 156,
   "id": "3e9df402",
   "metadata": {},
   "outputs": [
    {
     "name": "stdout",
     "output_type": "stream",
     "text": [
      "+--------+------+-----------+\n",
      "|distance|origin|destination|\n",
      "+--------+------+-----------+\n",
      "|    4330|   HNL|        JFK|\n",
      "|    4330|   HNL|        JFK|\n",
      "|    4330|   HNL|        JFK|\n",
      "|    4330|   HNL|        JFK|\n",
      "|    4330|   HNL|        JFK|\n",
      "|    4330|   HNL|        JFK|\n",
      "|    4330|   HNL|        JFK|\n",
      "|    4330|   HNL|        JFK|\n",
      "|    4330|   HNL|        JFK|\n",
      "|    4330|   HNL|        JFK|\n",
      "+--------+------+-----------+\n",
      "only showing top 10 rows\n",
      "\n"
     ]
    }
   ],
   "source": [
    "df.select('distance','origin', 'destination') \\\n",
    "    .where('distance > 1000') \\\n",
    "    .orderBy('distance', ascending = False).show(10)"
   ]
  },
  {
   "cell_type": "code",
   "execution_count": null,
   "id": "e045456f",
   "metadata": {},
   "outputs": [],
   "source": []
  }
 ],
 "metadata": {
  "kernelspec": {
   "display_name": "anaconda-toolbox",
   "language": "python",
   "name": "python3"
  },
  "language_info": {
   "codemirror_mode": {
    "name": "ipython",
    "version": 3
   },
   "file_extension": ".py",
   "mimetype": "text/x-python",
   "name": "python",
   "nbconvert_exporter": "python",
   "pygments_lexer": "ipython3",
   "version": "3.12.8"
  }
 },
 "nbformat": 4,
 "nbformat_minor": 5
}
